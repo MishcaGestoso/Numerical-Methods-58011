{
  "nbformat": 4,
  "nbformat_minor": 0,
  "metadata": {
    "colab": {
      "name": "Python Program.ipynb",
      "provenance": [],
      "collapsed_sections": [],
      "authorship_tag": "ABX9TyP8CWLY96yg2D+UUxX5ecNJ",
      "include_colab_link": true
    },
    "kernelspec": {
      "name": "python3",
      "display_name": "Python 3"
    },
    "language_info": {
      "name": "python"
    }
  },
  "cells": [
    {
      "cell_type": "markdown",
      "metadata": {
        "id": "view-in-github",
        "colab_type": "text"
      },
      "source": [
        "<a href=\"https://colab.research.google.com/github/MishcaGestoso/Numerical-Methods-58011/blob/main/Python_Program.ipynb\" target=\"_parent\"><img src=\"https://colab.research.google.com/assets/colab-badge.svg\" alt=\"Open In Colab\"/></a>"
      ]
    },
    {
      "cell_type": "code",
      "execution_count": 1,
      "metadata": {
        "colab": {
          "base_uri": "https://localhost:8080/"
        },
        "id": "aBtC9PPOqMyq",
        "outputId": "d271bf2c-fe58-40e3-b54a-a8f78d0a16e3"
      },
      "outputs": [
        {
          "output_type": "stream",
          "name": "stdout",
          "text": [
            "Integral = 2.1731\n"
          ]
        }
      ],
      "source": [
        "import math\n",
        "def f(x):\n",
        "  return(math.exp(x)) # define the trigo function\n",
        "a = -1\n",
        "b = 1\n",
        "n = 10\n",
        "h = (b-a)/n   # Width of the trapezoid\n",
        "S = h * (f(a)+f(b))    # Beginning value of summation\n",
        "for i in range(1,n):\n",
        "    S += f(a+i*h)\n",
        "Integral = S*h\n",
        "print('Integral = %0.4f' %Integral)"
      ]
    }
  ]
}